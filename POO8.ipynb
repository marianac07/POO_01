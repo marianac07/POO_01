{
  "nbformat": 4,
  "nbformat_minor": 0,
  "metadata": {
    "colab": {
      "provenance": []
    },
    "kernelspec": {
      "name": "python3",
      "display_name": "Python 3"
    },
    "language_info": {
      "name": "python"
    }
  },
  "cells": [
    {
      "cell_type": "code",
      "execution_count": 1,
      "metadata": {
        "id": "eaUDP2NOrzXn"
      },
      "outputs": [],
      "source": [
        "# Se crea la clase maestra\n",
        "class Animal():\n",
        "  def __init__(self):\n",
        "    print(\"Animal class creada\")\n",
        "\n",
        "  def guess_who(self):\n",
        "    print(\"Soy un animalito\")\n",
        "\n",
        "  def sleep(self):\n",
        "    print(\"Estoy durmiendo\")"
      ]
    },
    {
      "cell_type": "code",
      "source": [
        "my_animal = Animal()"
      ],
      "metadata": {
        "colab": {
          "base_uri": "https://localhost:8080/"
        },
        "id": "SGQ9lSh0skks",
        "outputId": "a1248cbb-da0b-4ef3-fe92-97776f50ac63"
      },
      "execution_count": 2,
      "outputs": [
        {
          "output_type": "stream",
          "name": "stdout",
          "text": [
            "Animal class creada\n"
          ]
        }
      ]
    },
    {
      "cell_type": "code",
      "source": [
        "my_animal.sleep()"
      ],
      "metadata": {
        "colab": {
          "base_uri": "https://localhost:8080/"
        },
        "id": "W98qVxlYt5DS",
        "outputId": "76580781-f428-450d-9d91-3999ac261703"
      },
      "execution_count": 3,
      "outputs": [
        {
          "output_type": "stream",
          "name": "stdout",
          "text": [
            "Estoy durmiendo\n"
          ]
        }
      ]
    },
    {
      "cell_type": "code",
      "source": [
        "my_animal.guess_who()"
      ],
      "metadata": {
        "colab": {
          "base_uri": "https://localhost:8080/"
        },
        "id": "bmLk0qh2vtNV",
        "outputId": "9c954919-fdd6-4757-bd0c-8797cb9d56d2"
      },
      "execution_count": 4,
      "outputs": [
        {
          "output_type": "stream",
          "name": "stdout",
          "text": [
            "Soy un animalito\n"
          ]
        }
      ]
    },
    {
      "cell_type": "code",
      "source": [
        "# Esta nueva clase se obtiene a partir de la clase maestra, subordinando a ésta\n",
        "# Esto de abajo inicializa funciones dentro de la clase Cat\n",
        "# Animal.__init__ inicializa la clase maestra dentro de la subordinada\n",
        "class Cat(Animal):\n",
        "  def __init__(self):\n",
        "    Animal.__init__(self)\n",
        "    print(\"Cat class creada\")\n",
        "\n",
        "  def guess_who(self):\n",
        "    print(\"Soy un gatito\")\n",
        "\n",
        "  def miau(self):\n",
        "    print(\"Miau!\")"
      ],
      "metadata": {
        "id": "XpQu-SKNvFto"
      },
      "execution_count": 5,
      "outputs": []
    },
    {
      "cell_type": "code",
      "source": [
        "my_cat = Cat()"
      ],
      "metadata": {
        "colab": {
          "base_uri": "https://localhost:8080/"
        },
        "id": "ayClgwQ6wnKZ",
        "outputId": "30f5934b-4d1b-4de9-cafa-f14a4c58f051"
      },
      "execution_count": 6,
      "outputs": [
        {
          "output_type": "stream",
          "name": "stdout",
          "text": [
            "Animal class creada\n",
            "Cat class creada\n"
          ]
        }
      ]
    },
    {
      "cell_type": "code",
      "source": [
        "my_cat.guess_who()"
      ],
      "metadata": {
        "colab": {
          "base_uri": "https://localhost:8080/"
        },
        "id": "r27LplNDxLjp",
        "outputId": "e9fbc306-b427-4bc7-b35a-8f340e38a9d4"
      },
      "execution_count": 7,
      "outputs": [
        {
          "output_type": "stream",
          "name": "stdout",
          "text": [
            "Soy un gatito\n"
          ]
        }
      ]
    },
    {
      "cell_type": "code",
      "source": [
        "my_cat.miau()"
      ],
      "metadata": {
        "colab": {
          "base_uri": "https://localhost:8080/"
        },
        "id": "HXYmN1i7xOHg",
        "outputId": "f289a75e-bb6b-4ef3-d4d0-ffb2665a542c"
      },
      "execution_count": 8,
      "outputs": [
        {
          "output_type": "stream",
          "name": "stdout",
          "text": [
            "Miau!\n"
          ]
        }
      ]
    },
    {
      "cell_type": "code",
      "source": [
        "class Doggie():\n",
        "  def __init__(self,name,raza):\n",
        "    self.name = name\n",
        "    self.raza = raza\n",
        "\n",
        "  def speak(self):\n",
        "    return self.name + \"dice woof\""
      ],
      "metadata": {
        "id": "SU9yonvRyPhJ"
      },
      "execution_count": 16,
      "outputs": []
    },
    {
      "cell_type": "code",
      "source": [
        "class Kitty():\n",
        "  def __init__(self,name,raza):\n",
        "    self.name = name\n",
        "    self.raza = raza\n",
        "\n",
        "  def speak(self):\n",
        "    return self.name + \"dice miau\""
      ],
      "metadata": {
        "id": "eQP9FaGkyhWi"
      },
      "execution_count": 17,
      "outputs": []
    },
    {
      "cell_type": "code",
      "source": [
        "my_dog = Doggie(\"Albertina \", \"Salchicha\")\n",
        "my_cat = Kitty(\"Firulais \", \"Egipcio\")"
      ],
      "metadata": {
        "id": "gjhN075HzN1b"
      },
      "execution_count": 25,
      "outputs": []
    },
    {
      "cell_type": "code",
      "source": [
        "my_dog.speak()"
      ],
      "metadata": {
        "colab": {
          "base_uri": "https://localhost:8080/",
          "height": 35
        },
        "id": "1DRWegQUz1Nz",
        "outputId": "0537d655-9188-484a-af31-8c8af8943b7a"
      },
      "execution_count": 22,
      "outputs": [
        {
          "output_type": "execute_result",
          "data": {
            "text/plain": [
              "'Albertina dice woof'"
            ],
            "application/vnd.google.colaboratory.intrinsic+json": {
              "type": "string"
            }
          },
          "metadata": {},
          "execution_count": 22
        }
      ]
    },
    {
      "cell_type": "code",
      "source": [
        "my_cat.speak()"
      ],
      "metadata": {
        "colab": {
          "base_uri": "https://localhost:8080/",
          "height": 35
        },
        "id": "A_3YovnWz5uD",
        "outputId": "e77cab6e-3f01-4f3b-ffd5-5a1ff0aa8981"
      },
      "execution_count": 26,
      "outputs": [
        {
          "output_type": "execute_result",
          "data": {
            "text/plain": [
              "'Firulais dice miau'"
            ],
            "application/vnd.google.colaboratory.intrinsic+json": {
              "type": "string"
            }
          },
          "metadata": {},
          "execution_count": 26
        }
      ]
    }
  ]
}