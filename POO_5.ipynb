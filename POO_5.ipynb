{
  "nbformat": 4,
  "nbformat_minor": 0,
  "metadata": {
    "colab": {
      "provenance": []
    },
    "kernelspec": {
      "name": "python3",
      "display_name": "Python 3"
    },
    "language_info": {
      "name": "python"
    }
  },
  "cells": [
    {
      "cell_type": "markdown",
      "source": [
        "# Clases, herencias y polimorfismos\n",
        "## Definiciones"
      ],
      "metadata": {
        "id": "M1EcbHAnopNV"
      }
    },
    {
      "cell_type": "code",
      "source": [
        "# Vamos a crear una definición (es una función integrada en Python)\n",
        "def Regina(a,b,c):\n",
        "  x = a + b*c\n",
        "  return x"
      ],
      "metadata": {
        "id": "34XTuXavov5J"
      },
      "execution_count": null,
      "outputs": []
    },
    {
      "cell_type": "code",
      "source": [
        "Regina(1,2,3)"
      ],
      "metadata": {
        "colab": {
          "base_uri": "https://localhost:8080/"
        },
        "id": "D7cn8d11pO33",
        "outputId": "38ed47af-aeca-4d91-bbbb-662b47ee1298"
      },
      "execution_count": null,
      "outputs": [
        {
          "output_type": "execute_result",
          "data": {
            "text/plain": [
              "7"
            ]
          },
          "metadata": {},
          "execution_count": 2
        }
      ]
    },
    {
      "cell_type": "code",
      "source": [
        "# Vamos a crear una definición que calcule la inversa de una matriz\n",
        "import numpy as np\n",
        "def inv_matrix(M):\n",
        "  x = np.linalg.inv(M)\n",
        "  return x"
      ],
      "metadata": {
        "id": "r6S6H_8Hphg7"
      },
      "execution_count": null,
      "outputs": []
    },
    {
      "cell_type": "code",
      "source": [
        "import numpy as np\n",
        "matriz = np.random.randint(1,15,[3,3])\n",
        "matriz"
      ],
      "metadata": {
        "colab": {
          "base_uri": "https://localhost:8080/"
        },
        "id": "ML-wMm8AuDdK",
        "outputId": "620be71e-b116-453d-c06e-efd454c5a5b0"
      },
      "execution_count": null,
      "outputs": [
        {
          "output_type": "execute_result",
          "data": {
            "text/plain": [
              "array([[14,  3,  2],\n",
              "       [11, 11,  2],\n",
              "       [ 8, 14,  8]])"
            ]
          },
          "metadata": {},
          "execution_count": 5
        }
      ]
    },
    {
      "cell_type": "code",
      "source": [
        "inv_matrix(matriz)"
      ],
      "metadata": {
        "colab": {
          "base_uri": "https://localhost:8080/"
        },
        "id": "UpEe5ZkxubpH",
        "outputId": "78cc848d-ae41-499d-8025-9ba575274ea0"
      },
      "execution_count": null,
      "outputs": [
        {
          "output_type": "execute_result",
          "data": {
            "text/plain": [
              "array([[ 0.07936508,  0.00529101, -0.02116402],\n",
              "       [-0.0952381 ,  0.12698413, -0.00793651],\n",
              "       [ 0.08730159, -0.22751323,  0.16005291]])"
            ]
          },
          "metadata": {},
          "execution_count": 6
        }
      ]
    },
    {
      "cell_type": "code",
      "source": [
        "matriz.shape"
      ],
      "metadata": {
        "id": "dxrasRv2z35y",
        "outputId": "8d0c54c1-e023-44aa-93d8-b6e44067681a",
        "colab": {
          "base_uri": "https://localhost:8080/"
        }
      },
      "execution_count": null,
      "outputs": [
        {
          "output_type": "execute_result",
          "data": {
            "text/plain": [
              "(3, 3)"
            ]
          },
          "metadata": {},
          "execution_count": 8
        }
      ]
    }
  ]
}