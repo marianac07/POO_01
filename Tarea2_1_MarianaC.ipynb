{
  "nbformat": 4,
  "nbformat_minor": 0,
  "metadata": {
    "colab": {
      "provenance": []
    },
    "kernelspec": {
      "name": "python3",
      "display_name": "Python 3"
    },
    "language_info": {
      "name": "python"
    }
  },
  "cells": [
    {
      "cell_type": "code",
      "execution_count": null,
      "metadata": {
        "colab": {
          "base_uri": "https://localhost:8080/",
          "height": 140
        },
        "id": "jRBSy2bd04_5",
        "outputId": "f45cfcba-d357-43ee-8973-62131f50e35b"
      },
      "outputs": [
        {
          "output_type": "error",
          "ename": "SyntaxError",
          "evalue": "ignored",
          "traceback": [
            "\u001b[0;36m  File \u001b[0;32m\"<ipython-input-1-7d0747b85a23>\"\u001b[0;36m, line \u001b[0;32m11\u001b[0m\n\u001b[0;31m    super().__init__(self):\u001b[0m\n\u001b[0m                          ^\u001b[0m\n\u001b[0;31mSyntaxError\u001b[0m\u001b[0;31m:\u001b[0m invalid syntax\n"
          ]
        }
      ],
      "source": [
        "# Crea una clase que se llame Animal\n",
        "# define un inicializador que contenga dos argumentos (a y b) que asignarás\n",
        "class Animal():\n",
        "  def __init__ (self, nombre, tipo):\n",
        "    self.nombre = nombre\n",
        "    self.tipo = tipo\n",
        "\n",
        "# Crea una clase heredada que se llame Mascota\n",
        "class Mascota(Animal):\n",
        "  def __init__(self):\n",
        "    super().__init__(self):\n",
        "    print(\"Mascota class creada\")\n",
        "\n",
        "# usar super(), (objeto temporal de la superclase) nos permite acceder a métodos de la clase madre\n",
        "  # define tres métodos asociados a Mascota\n",
        "    def nombre(self):\n",
        "      print(\"Soy Albertina\")\n",
        "\n",
        "    def tipo(self):\n",
        "      print(\"Soy un perro\")\n",
        "\n",
        "    def raza(self):\n",
        "      print(\"Soy un perro salchicha\")"
      ]
    },
    {
      "cell_type": "code",
      "source": [
        "# Crea dos clases que tengan asignados nombres de Países.\n",
        "# Para cada clase, define al menos tres características del País considerado: por ejemplo, capital, idioma, etcétera\n",
        "class p1():\n",
        "  def __init__(self, pais, capital, idioma, moneda):\n",
        "    self.pais = pais\n",
        "    self.capital = capital\n",
        "    self.idioma = idioma\n",
        "    self.moneda = moneda\n",
        "\n",
        "class p2():\n",
        "  def __init__(self, pais, capital, idioma, moneda):\n",
        "    self.pais = pais\n",
        "    self.capital = capital\n",
        "    self.idioma = idioma\n",
        "    self.moneda = moneda\n",
        "\n",
        "# Define dos variables que sean cursores\n",
        "  cursor1 = p1(\"Japón\", \"Tokio\", \"Japonéz\", \"Yen\")\n",
        "  cursor2 = p2(\"Italia\", \"Roma\", \"Italiano\", \"Euro\")\n",
        "\n",
        "# Comenta tus resultados"
      ],
      "metadata": {
        "colab": {
          "base_uri": "https://localhost:8080/",
          "height": 361
        },
        "id": "wPIamnZA0-UX",
        "outputId": "1885aadf-dd03-4a86-cf85-93b6c23ed28d"
      },
      "execution_count": null,
      "outputs": [
        {
          "output_type": "error",
          "ename": "NameError",
          "evalue": "ignored",
          "traceback": [
            "\u001b[0;31m---------------------------------------------------------------------------\u001b[0m",
            "\u001b[0;31mNameError\u001b[0m                                 Traceback (most recent call last)",
            "\u001b[0;32m<ipython-input-2-07fecf3679a6>\u001b[0m in \u001b[0;36m<cell line: 10>\u001b[0;34m()\u001b[0m\n\u001b[1;32m      8\u001b[0m     \u001b[0mself\u001b[0m\u001b[0;34m.\u001b[0m\u001b[0mmoneda\u001b[0m \u001b[0;34m=\u001b[0m \u001b[0mmoneda\u001b[0m\u001b[0;34m\u001b[0m\u001b[0;34m\u001b[0m\u001b[0m\n\u001b[1;32m      9\u001b[0m \u001b[0;34m\u001b[0m\u001b[0m\n\u001b[0;32m---> 10\u001b[0;31m \u001b[0;32mclass\u001b[0m \u001b[0mp2\u001b[0m\u001b[0;34m(\u001b[0m\u001b[0;34m)\u001b[0m\u001b[0;34m:\u001b[0m\u001b[0;34m\u001b[0m\u001b[0;34m\u001b[0m\u001b[0m\n\u001b[0m\u001b[1;32m     11\u001b[0m   \u001b[0;32mdef\u001b[0m \u001b[0m__init__\u001b[0m\u001b[0;34m(\u001b[0m\u001b[0mself\u001b[0m\u001b[0;34m,\u001b[0m \u001b[0mpais\u001b[0m\u001b[0;34m,\u001b[0m \u001b[0mcapital\u001b[0m\u001b[0;34m,\u001b[0m \u001b[0midioma\u001b[0m\u001b[0;34m,\u001b[0m \u001b[0mmoneda\u001b[0m\u001b[0;34m)\u001b[0m\u001b[0;34m:\u001b[0m\u001b[0;34m\u001b[0m\u001b[0;34m\u001b[0m\u001b[0m\n\u001b[1;32m     12\u001b[0m     \u001b[0mself\u001b[0m\u001b[0;34m.\u001b[0m\u001b[0mpais\u001b[0m \u001b[0;34m=\u001b[0m \u001b[0mpais\u001b[0m\u001b[0;34m\u001b[0m\u001b[0;34m\u001b[0m\u001b[0m\n",
            "\u001b[0;32m<ipython-input-2-07fecf3679a6>\u001b[0m in \u001b[0;36mp2\u001b[0;34m()\u001b[0m\n\u001b[1;32m     17\u001b[0m \u001b[0;31m# Define dos variables que sean cursores\u001b[0m\u001b[0;34m\u001b[0m\u001b[0;34m\u001b[0m\u001b[0m\n\u001b[1;32m     18\u001b[0m   \u001b[0mcursor1\u001b[0m \u001b[0;34m=\u001b[0m \u001b[0mp1\u001b[0m\u001b[0;34m(\u001b[0m\u001b[0;34m\"Japón\"\u001b[0m\u001b[0;34m,\u001b[0m \u001b[0;34m\"Tokio\"\u001b[0m\u001b[0;34m,\u001b[0m \u001b[0;34m\"Japonéz\"\u001b[0m\u001b[0;34m,\u001b[0m \u001b[0;34m\"Yen\"\u001b[0m\u001b[0;34m)\u001b[0m\u001b[0;34m\u001b[0m\u001b[0;34m\u001b[0m\u001b[0m\n\u001b[0;32m---> 19\u001b[0;31m   \u001b[0mcursor2\u001b[0m \u001b[0;34m=\u001b[0m \u001b[0mp2\u001b[0m\u001b[0;34m(\u001b[0m\u001b[0;34m\"Italia\"\u001b[0m\u001b[0;34m,\u001b[0m \u001b[0;34m\"Roma\"\u001b[0m\u001b[0;34m,\u001b[0m \u001b[0;34m\"Italiano\"\u001b[0m\u001b[0;34m,\u001b[0m \u001b[0;34m\"Euro\"\u001b[0m\u001b[0;34m)\u001b[0m\u001b[0;34m\u001b[0m\u001b[0;34m\u001b[0m\u001b[0m\n\u001b[0m\u001b[1;32m     20\u001b[0m \u001b[0;34m\u001b[0m\u001b[0m\n\u001b[1;32m     21\u001b[0m \u001b[0;31m# Comenta tus resultados\u001b[0m\u001b[0;34m\u001b[0m\u001b[0;34m\u001b[0m\u001b[0m\n",
            "\u001b[0;31mNameError\u001b[0m: name 'p2' is not defined"
          ]
        }
      ]
    },
    {
      "cell_type": "code",
      "source": [
        "## Ejemplo de polimorfismo de clase y herencia.\n",
        "import math as mt\n",
        "\n",
        "# Crea una clase madre que se llame Forma\n",
        "class Forma():\n",
        "  def __init__(self):\n",
        "    print(\"Forma class creada\")\n",
        "\n",
        "# Crea dos clases heredadas de la clase madre Forma que calcule el área y el perímetro de un círculo\n",
        "class Circulo(Forma):\n",
        "  def __init__(self, radio):\n",
        "    self.radio = radio\n",
        "\n",
        "  def area1(self):\n",
        "    area1 = mt.pi * self.radio ** 2\n",
        "    return area1\n",
        "\n",
        "# y de un cuadrado, respectivamente.\n",
        "class Cuadrado(Forma):\n",
        "  def __init__(self, lado):\n",
        "    self.lado = lado\n",
        "\n",
        "  def area2(self):\n",
        "    area2 = self.lado ** 2\n",
        "    return area2"
      ],
      "metadata": {
        "id": "n85G7-k21Anf"
      },
      "execution_count": null,
      "outputs": []
    },
    {
      "cell_type": "code",
      "source": [
        "Forma()"
      ],
      "metadata": {
        "colab": {
          "base_uri": "https://localhost:8080/"
        },
        "id": "ul4JBwUuQRxc",
        "outputId": "250182b4-90ef-40db-cf05-e925da834edb"
      },
      "execution_count": null,
      "outputs": [
        {
          "output_type": "stream",
          "name": "stdout",
          "text": [
            "Forma class creada\n"
          ]
        },
        {
          "output_type": "execute_result",
          "data": {
            "text/plain": [
              "<__main__.Forma at 0x7ac9fa3c3ac0>"
            ]
          },
          "metadata": {},
          "execution_count": 4
        }
      ]
    },
    {
      "cell_type": "code",
      "source": [
        "circulo = Circulo(10)"
      ],
      "metadata": {
        "id": "zcH4qiHVQVFN"
      },
      "execution_count": null,
      "outputs": []
    },
    {
      "cell_type": "code",
      "source": [
        "circulo.area1()"
      ],
      "metadata": {
        "id": "5Xcem1i-QvB4",
        "outputId": "2adcc753-ee43-4ca7-afa6-20d2166349f3",
        "colab": {
          "base_uri": "https://localhost:8080/"
        }
      },
      "execution_count": null,
      "outputs": [
        {
          "output_type": "execute_result",
          "data": {
            "text/plain": [
              "314.1592653589793"
            ]
          },
          "metadata": {},
          "execution_count": 6
        }
      ]
    },
    {
      "cell_type": "code",
      "source": [
        "cuadrado = Cuadrado(3)"
      ],
      "metadata": {
        "id": "J3POgpAUQxXH"
      },
      "execution_count": null,
      "outputs": []
    },
    {
      "cell_type": "code",
      "source": [
        "cuadrado.area2()"
      ],
      "metadata": {
        "id": "gwMPS21EQ0Ho",
        "outputId": "86b7951c-60c7-4a23-8324-25966c4cd619",
        "colab": {
          "base_uri": "https://localhost:8080/"
        }
      },
      "execution_count": null,
      "outputs": [
        {
          "output_type": "execute_result",
          "data": {
            "text/plain": [
              "9"
            ]
          },
          "metadata": {},
          "execution_count": 8
        }
      ]
    }
  ]
}