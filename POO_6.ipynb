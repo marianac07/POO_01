{
  "nbformat": 4,
  "nbformat_minor": 0,
  "metadata": {
    "colab": {
      "provenance": []
    },
    "kernelspec": {
      "name": "python3",
      "display_name": "Python 3"
    },
    "language_info": {
      "name": "python"
    }
  },
  "cells": [
    {
      "cell_type": "markdown",
      "source": [
        "# Condicionales"
      ],
      "metadata": {
        "id": "O2OL4c6JZDUW"
      }
    },
    {
      "cell_type": "code",
      "source": [
        "# Ejemplo\n",
        "x = 3\n",
        "if x % 2 == 0:\n",
        "  if x > 10:\n",
        "    print(\"El número es par y es mayor a 10\")\n",
        "  else:\n",
        "    print(\"El número es par pero no es mayor a 10\")\n",
        "else:\n",
        "  print(\"El número no es par\")"
      ],
      "metadata": {
        "colab": {
          "base_uri": "https://localhost:8080/"
        },
        "id": "vE_0uASlZG85",
        "outputId": "fde421c9-5e92-45a4-ecf2-0a82a1016395"
      },
      "execution_count": null,
      "outputs": [
        {
          "output_type": "stream",
          "name": "stdout",
          "text": [
            "El número no es par\n"
          ]
        }
      ]
    },
    {
      "cell_type": "code",
      "source": [],
      "metadata": {
        "id": "Q_bjG08Ka4oe"
      },
      "execution_count": null,
      "outputs": []
    }
  ]
}